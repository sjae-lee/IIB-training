{
 "cells": [
  {
   "cell_type": "code",
   "execution_count": 2,
   "metadata": {
    "collapsed": true
   },
   "outputs": [],
   "source": [
    "import numpy as np\n",
    "import pandas as pd\n",
    "import matplotlib.pyplot as plt\n",
    "%matplotlib inline"
   ]
  },
  {
   "cell_type": "code",
   "execution_count": 3,
   "metadata": {
    "collapsed": true
   },
   "outputs": [],
   "source": [
    "def ElecUse(group, area):\n",
    "    if group == 'a':\n",
    "        beta0 = 3.\n",
    "        beta1 = 2.\n",
    "        sigma = 1.\n",
    "    if group == 'b':\n",
    "        beta0 = 2.\n",
    "        beta1 = 4.\n",
    "        sigma = 2. \n",
    "    return beta0 + beta1 * area/500000. + np.random.randn(area.shape[0]) * sigma"
   ]
  },
  {
   "cell_type": "code",
   "execution_count": 14,
   "metadata": {
    "collapsed": false
   },
   "outputs": [
    {
     "data": {
      "text/plain": [
       "<matplotlib.collections.PathCollection at 0xc7c2d30>"
      ]
     },
     "execution_count": 14,
     "metadata": {},
     "output_type": "execute_result"
    },
    {
     "data": {
      "image/png": "[encoded data removed]",
      "text/plain": [
       "<Figure size 600x400 with 1 Axes>"
      ]
     },
     "metadata": {},
     "output_type": "display_data"
    }
   ],
   "source": [
    "np.random.seed(2)\n",
    "Area_A = ((np.random.randn(100)) * 500000 + 3000000)/2. # sqft\n",
    "Area_B = ((np.random.randn(100)) * 500000 + 3000000)/2. # sqft\n",
    "Elec_A = ElecUse('a',Area_A)*10000000 # kBTU\n",
    "Elec_B = ElecUse('b',Area_B)*10000000 # kBTU\n",
    "\n",
    "Area = np.hstack((Area_A,Area_B))\n",
    "Elec = np.hstack((Elec_A,Elec_B))\n",
    "\n",
    "DF = pd.DataFrame({'Area [sq ft]':Area, 'Elec [kBTU]':Elec})\n",
    "DF.to_excel('Data.xlsx')\n",
    "\n",
    "plt.scatter(DF['Area [sq ft]'], DF['Elec [kBTU]'])"
   ]
  },
  {
   "cell_type": "code",
   "execution_count": 15,
   "metadata": {
    "collapsed": false
   },
   "outputs": [
    {
     "name": "stdout",
     "output_type": "stream",
     "text": [
      "[[3.49582269]] [1.21288991]\n",
      "0.24816505653355336\n"
     ]
    }
   ],
   "source": [
    "from sklearn.linear_model import LinearRegression\n",
    "LR = LinearRegression().fit(Area[:,None]/500000., Elec[:,None]/10000000.)\n",
    "# print LR.score(Area[:,None], Elec[:,None])\n",
    "print LR.coef_, LR.intercept_\n",
    "print LR.score(Area[:,None]/500000., Elec[:,None]/10000000.)"
   ]
  },
  {
   "cell_type": "code",
   "execution_count": null,
   "metadata": {
    "collapsed": true
   },
   "outputs": [],
   "source": []
  },
  {
   "cell_type": "code",
   "execution_count": null,
   "metadata": {
    "collapsed": true
   },
   "outputs": [],
   "source": []
  }
 ],
 "metadata": {
  "kernelspec": {
   "display_name": "Python 2",
   "language": "python",
   "name": "python2"
  },
  "language_info": {
   "codemirror_mode": {
    "name": "ipython",
    "version": 2
   },
   "file_extension": ".py",
   "mimetype": "text/x-python",
   "name": "python",
   "nbconvert_exporter": "python",
   "pygments_lexer": "ipython2",
   "version": "2.7.12"
  }
 },
 "nbformat": 4,
 "nbformat_minor": 0
}
