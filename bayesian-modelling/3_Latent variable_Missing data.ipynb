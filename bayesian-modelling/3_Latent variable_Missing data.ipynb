{
 "cells": [
  {
   "cell_type": "code",
   "execution_count": 30,
   "id": "4c6f1f60-6fb3-4ea0-9a2f-3919a0b501f7",
   "metadata": {},
   "outputs": [],
   "source": [
    "import os\n",
    "import numpy as np\n",
    "import matplotlib.pyplot as plt\n",
    "import pymc as pm\n",
    "import pytensor.tensor as T"
   ]
  },
  {
   "cell_type": "markdown",
   "id": "feefd87a-82a0-4de3-b97d-8426fbb8b328",
   "metadata": {},
   "source": [
    "Let's suppose that we have three variables, $x,y,z$. The underlying relationships are:\n",
    "$$\n",
    "\\begin{aligned}\n",
    "&y = \\beta_1 \\times x + \\beta_0 + \\epsilon_1\\\\\n",
    "&z = \\beta_3 \\times y - \\beta_2 + \\epsilon_2\\\\\n",
    "&\\epsilon_1 \\sim \\mathcal{N}(0,\\sigma_0)\\\\\n",
    "&\\epsilon_2 \\sim \\mathcal{N}(0,\\sigma_1)\\\\\n",
    "\\end{aligned}\n",
    "$$\n",
    "where\n",
    "$\\beta_0=1, \\beta_1=1, \\beta_2=-1, \\beta_3=1, \\sigma_0=1, \\sigma_0=1$."
   ]
  },
  {
   "cell_type": "code",
   "execution_count": 43,
   "id": "35845b02-fb8d-4f49-9b80-2beaf4ee3de5",
   "metadata": {},
   "outputs": [],
   "source": [
    "# generate data\n",
    "np.random.seed(134)\n",
    "N=100\n",
    "x = np.random.rand(N) * 2 - 1\n",
    "y = 1 * x + 1 + np.random.randn(N)\n",
    "z = 1 * y - 1 + np.random.randn(N)"
   ]
  },
  {
   "cell_type": "markdown",
   "id": "fde604e9-4656-40c7-b030-acb5be473b79",
   "metadata": {},
   "source": [
    "Assuming we do not know the underlying functions, our objective is to estimate the posterior distribution of the model parameters $\\boldsymbol{\\uptheta}=(\\beta_0,\\beta_1,\\beta_2,\\beta_3,\\sigma_0,\\sigma_1)$:\n",
    "$$\n",
    "p(\\boldsymbol{\\uptheta}|\\mathbf{D}) \\propto p(\\mathbf{D}|\\boldsymbol{\\uptheta}) p(\\boldsymbol{\\uptheta})\n",
    "$$\n"
   ]
  },
  {
   "cell_type": "markdown",
   "id": "f15058b1-9972-400e-9073-242980ef7d83",
   "metadata": {},
   "source": [
    "If there are no missing data, i.e., we have 100 datapoints, estimating the posterior is not a big deal."
   ]
  },
  {
   "cell_type": "code",
   "execution_count": 23,
   "id": "87fa37b7-9a8d-4a91-8025-06c3b58bcef4",
   "metadata": {},
   "outputs": [
    {
     "name": "stderr",
     "output_type": "stream",
     "text": [
      "Auto-assigning NUTS sampler...\n",
      "Initializing NUTS using jitter+adapt_diag...\n",
      "Multiprocess sampling (4 chains in 4 jobs)\n",
      "NUTS: [beta, sigma]\n"
     ]
    },
    {
     "data": {
      "application/vnd.jupyter.widget-view+json": {
       "model_id": "85ec22af596f469cacbbb82e2af10d34",
       "version_major": 2,
       "version_minor": 0
      },
      "text/plain": [
       "Output()"
      ]
     },
     "metadata": {},
     "output_type": "display_data"
    },
    {
     "data": {
      "text/html": [
       "<pre style=\"white-space:pre;overflow-x:auto;line-height:normal;font-family:Menlo,'DejaVu Sans Mono',consolas,'Courier New',monospace\"></pre>\n"
      ],
      "text/plain": []
     },
     "metadata": {},
     "output_type": "display_data"
    },
    {
     "data": {
      "text/html": [
       "<pre style=\"white-space:pre;overflow-x:auto;line-height:normal;font-family:Menlo,'DejaVu Sans Mono',consolas,'Courier New',monospace\">\n",
       "</pre>\n"
      ],
      "text/plain": [
       "\n"
      ]
     },
     "metadata": {},
     "output_type": "display_data"
    },
    {
     "name": "stderr",
     "output_type": "stream",
     "text": [
      "Sampling 4 chains for 1_000 tune and 3_000 draw iterations (4_000 + 12_000 draws total) took 62 seconds.\n"
     ]
    }
   ],
   "source": [
    "model = pm.Model()\n",
    "with model:\n",
    "    # Prior\n",
    "    beta = pm.Normal(\"beta\", mu=0, sigma=10, shape=4)\n",
    "    sigma = pm.Exponential(\"sigma\", lam=1/100, shape=2)\n",
    "\n",
    "    # Likelihood\n",
    "    y_hat = beta[1] * x + beta[0]\n",
    "    y_obs = pm.Normal(\"y_obs\", mu=y_hat, sigma=sigma[0], observed=y)\n",
    "    z_hat = beta[3] * y + beta[2]\n",
    "    z_obs = pm.Normal(\"z_obs\", mu=z_hat, sigma=sigma[1], observed=z)\n",
    "\n",
    "    # draw 1000 posterior samples\n",
    "    samples = pm.sample(3000)\n",
    "\n",
    "beta_samples = samples.posterior['beta'].values.reshape(-1,4)\n",
    "sigma_samples = samples.posterior['sigma'].values.reshape(-1,2)"
   ]
  },
  {
   "cell_type": "markdown",
   "id": "10a77c76-29fb-44f9-b1de-3b631209e070",
   "metadata": {},
   "source": [
    "As an example, let us visualize the marginalized posterior for $\\beta_2$ and $\\beta_3$. <br>\n",
    "From the figure below, we can see that the posteriors are concentrated at the true values, -1 and 1."
   ]
  },
  {
   "cell_type": "code",
   "execution_count": 95,
   "id": "3812e87f-106f-4bff-97b0-26a951dae181",
   "metadata": {},
   "outputs": [
    {
     "data": {
      "text/plain": [
       "<matplotlib.legend.Legend at 0x24acf796000>"
      ]
     },
     "execution_count": 95,
     "metadata": {},
     "output_type": "execute_result"
    },
    {
     "data": {
      "image/png": "[encoded data removed]",
      "text/plain": [
       "<Figure size 640x480 with 1 Axes>"
      ]
     },
     "metadata": {},
     "output_type": "display_data"
    }
   ],
   "source": [
    "plt.hist(beta_samples[:,2],label='$p(\\\\beta_2|\\\\mathbf{D})$',density=True,alpha=0.3)\n",
    "plt.hist(beta_samples[:,3],label='$p(\\\\beta_3|\\\\mathbf{D})$',density=True,alpha=0.3)\n",
    "plt.vlines(-1,0,5,color='C0', linewidth=2, label='True $\\\\beta_2$')\n",
    "plt.vlines(1,0,5,color='C1', linewidth=2, label='True $\\\\beta_3$')\n",
    "plt.xlim(-7.5,7.5)\n",
    "plt.legend()"
   ]
  },
  {
   "cell_type": "markdown",
   "id": "9ab62fe2-7440-437a-9baa-90262482902c",
   "metadata": {},
   "source": [
    "Now, let us think about a situation where we lost most of the $y$ data. We have only the first 5 datapoints. We still have the full $x$ and $z$ data. If we drop the 95 datapoints because of the missing y values, we will not have enough information to estimate the posterior distribution."
   ]
  },
  {
   "cell_type": "code",
   "execution_count": 40,
   "id": "dcb42814-34f9-4f82-9b4a-bb32831439aa",
   "metadata": {},
   "outputs": [
    {
     "name": "stderr",
     "output_type": "stream",
     "text": [
      "Auto-assigning NUTS sampler...\n",
      "Initializing NUTS using jitter+adapt_diag...\n",
      "Multiprocess sampling (4 chains in 4 jobs)\n",
      "NUTS: [beta, sigma]\n"
     ]
    },
    {
     "data": {
      "application/vnd.jupyter.widget-view+json": {
       "model_id": "994d38e63963472a9010f158302ab3ed",
       "version_major": 2,
       "version_minor": 0
      },
      "text/plain": [
       "Output()"
      ]
     },
     "metadata": {},
     "output_type": "display_data"
    },
    {
     "data": {
      "text/html": [
       "<pre style=\"white-space:pre;overflow-x:auto;line-height:normal;font-family:Menlo,'DejaVu Sans Mono',consolas,'Courier New',monospace\"></pre>\n"
      ],
      "text/plain": []
     },
     "metadata": {},
     "output_type": "display_data"
    },
    {
     "data": {
      "text/html": [
       "<pre style=\"white-space:pre;overflow-x:auto;line-height:normal;font-family:Menlo,'DejaVu Sans Mono',consolas,'Courier New',monospace\">\n",
       "</pre>\n"
      ],
      "text/plain": [
       "\n"
      ]
     },
     "metadata": {},
     "output_type": "display_data"
    },
    {
     "name": "stderr",
     "output_type": "stream",
     "text": [
      "Sampling 4 chains for 1_000 tune and 3_000 draw iterations (4_000 + 12_000 draws total) took 79 seconds.\n",
      "There were 7 divergences after tuning. Increase `target_accept` or reparameterize.\n"
     ]
    }
   ],
   "source": [
    "model_5p = pm.Model()\n",
    "with model_5p:\n",
    "    # Prior\n",
    "    beta = pm.Normal(\"beta\", mu=0, sigma=10, shape=4)\n",
    "    sigma = pm.Exponential(\"sigma\", lam=1/100, shape=2)\n",
    "\n",
    "    # Likelihood\n",
    "    y_hat = beta[1] * x[:5] + beta[0]\n",
    "    y_obs = pm.Normal(\"y_obs\", mu=y_hat, sigma=sigma[0], observed=y[:5])\n",
    "    z_hat = beta[3] * y[:5] + beta[2]\n",
    "    z_obs = pm.Normal(\"z_obs\", mu=z_hat, sigma=sigma[1], observed=z[:5])\n",
    "\n",
    "    # draw 1000 posterior samples\n",
    "    samples_5p = pm.sample(3000)\n",
    "beta_samples_5p = samples_5p.posterior['beta'].values.reshape(-1,4)\n",
    "sigma_samples_5p = samples_5p.posterior['sigma'].values.reshape(-1,2)"
   ]
  },
  {
   "cell_type": "markdown",
   "id": "9c917cad-1dbf-4ed0-88b3-4dba6e8bf3c6",
   "metadata": {},
   "source": [
    "From the figure below, we can see that the posteriors are very flat, i.e., high uncertainty."
   ]
  },
  {
   "cell_type": "code",
   "execution_count": 94,
   "id": "9c67e2af-adec-455e-bbba-30c0353f48b1",
   "metadata": {},
   "outputs": [
    {
     "data": {
      "text/plain": [
       "<matplotlib.legend.Legend at 0x24acf9dc140>"
      ]
     },
     "execution_count": 94,
     "metadata": {},
     "output_type": "execute_result"
    },
    {
     "data": {
      "image/png": "[encoded data removed]",
      "text/plain": [
       "<Figure size 640x480 with 1 Axes>"
      ]
     },
     "metadata": {},
     "output_type": "display_data"
    }
   ],
   "source": [
    "plt.hist(beta_samples_5p[:,2],label='$p(\\\\beta_2|\\\\mathbf{D})$',density=True,alpha=0.3)\n",
    "plt.hist(beta_samples_5p[:,3],label='$p(\\\\beta_3|\\\\mathbf{D})$',density=True,alpha=0.3)\n",
    "plt.vlines(-1,0,0.5,color='C0', linewidth=2, label='True $\\\\beta_2$')\n",
    "plt.vlines(1,0,0.5,color='C1', linewidth=2, label='True $\\\\beta_3$')\n",
    "plt.xlim(-7.5,7.5)\n",
    "plt.legend()"
   ]
  },
  {
   "cell_type": "markdown",
   "id": "7438db9a-01e0-4950-9cd4-763a030a3453",
   "metadata": {},
   "source": [
    "Instead of throwing away the 95 datapoints, by introducing latent variables representing missing $y$ values, in the model, we can implement this idea: <br>\n",
    "*\"We don't have the $y$ values. But, we know that $x$ and $z$ are linked through $y$\"* <br>\n",
    "In other words, we can try to maximize the use of the information in the $x$ and $z$ values."
   ]
  },
  {
   "cell_type": "code",
   "execution_count": 31,
   "id": "bcebff4a-1f22-4bd4-83ca-6392f0f0a1e2",
   "metadata": {},
   "outputs": [
    {
     "name": "stderr",
     "output_type": "stream",
     "text": [
      "Auto-assigning NUTS sampler...\n",
      "Initializing NUTS using jitter+adapt_diag...\n",
      "Multiprocess sampling (4 chains in 4 jobs)\n",
      "NUTS: [beta, sigma, y_latent]\n"
     ]
    },
    {
     "data": {
      "application/vnd.jupyter.widget-view+json": {
       "model_id": "a25441cea2b84b85b7c9d324e17353a4",
       "version_major": 2,
       "version_minor": 0
      },
      "text/plain": [
       "Output()"
      ]
     },
     "metadata": {},
     "output_type": "display_data"
    },
    {
     "data": {
      "text/html": [
       "<pre style=\"white-space:pre;overflow-x:auto;line-height:normal;font-family:Menlo,'DejaVu Sans Mono',consolas,'Courier New',monospace\"></pre>\n"
      ],
      "text/plain": []
     },
     "metadata": {},
     "output_type": "display_data"
    },
    {
     "data": {
      "text/html": [
       "<pre style=\"white-space:pre;overflow-x:auto;line-height:normal;font-family:Menlo,'DejaVu Sans Mono',consolas,'Courier New',monospace\">\n",
       "</pre>\n"
      ],
      "text/plain": [
       "\n"
      ]
     },
     "metadata": {},
     "output_type": "display_data"
    },
    {
     "name": "stderr",
     "output_type": "stream",
     "text": [
      "Sampling 4 chains for 1_000 tune and 3_000 draw iterations (4_000 + 12_000 draws total) took 82 seconds.\n",
      "There were 8 divergences after tuning. Increase `target_accept` or reparameterize.\n"
     ]
    }
   ],
   "source": [
    "model_latent = pm.Model()\n",
    "with model_latent:\n",
    "    # Prior\n",
    "    beta = pm.Normal(\"beta\", mu=0, sigma=10, shape=4)\n",
    "    sigma = pm.Exponential(\"sigma\", lam=1/100, shape=2)\n",
    "\n",
    "    # Likelihood\n",
    "    y_hat = beta[1] * x + beta[0]\n",
    "    y_obs = pm.Normal(\"y_obs\", mu=y_hat[:10], sigma=sigma[0], observed=y[:10])\n",
    "    y_latent = pm.Normal(\"y_latent\", mu=y_hat[10:], sigma=sigma[0])\n",
    "    y_concat = T.concatenate((y[:10],y_latent))\n",
    "    \n",
    "    z_hat = beta[3] * y_concat + beta[2]\n",
    "    z_obs = pm.Normal(\"z_obs\", mu=z_hat, sigma=sigma[1], observed=z)\n",
    "\n",
    "    # draw 1000 posterior samples\n",
    "    samples_latent = pm.sample(3000)\n",
    "beta_samples_latent = samples_latent.posterior['beta'].values.reshape(-1,4)\n",
    "sigma_samples_latent = samples_latent.posterior['sigma'].values.reshape(-1,2)"
   ]
  },
  {
   "cell_type": "markdown",
   "id": "eeb38be6-3a95-4fcc-87e5-6c19337001f6",
   "metadata": {},
   "source": [
    "From the figure below, we can see that the posteriors are much better, i.e., much lower uncertainty."
   ]
  },
  {
   "cell_type": "code",
   "execution_count": 100,
   "id": "19a14dad-813c-4fa0-b726-0e2395fa7653",
   "metadata": {},
   "outputs": [
    {
     "data": {
      "text/plain": [
       "<matplotlib.legend.Legend at 0x24ad0f55d60>"
      ]
     },
     "execution_count": 100,
     "metadata": {},
     "output_type": "execute_result"
    },
    {
     "data": {
      "image/png": "[encoded data removed]",
      "text/plain": [
       "<Figure size 640x480 with 1 Axes>"
      ]
     },
     "metadata": {},
     "output_type": "display_data"
    }
   ],
   "source": [
    "plt.hist(beta_samples_latent[:,2],label='$p(\\\\beta_2|\\\\mathbf{D})$',density=True,alpha=0.3)\n",
    "plt.hist(beta_samples_latent[:,3],label='$p(\\\\beta_3|\\\\mathbf{D})$',density=True,alpha=0.3)\n",
    "plt.vlines(-1,0,1,color='C0', linewidth=2, label='True $\\\\beta_2$')\n",
    "plt.vlines(1,0,1,color='C1', linewidth=2, label='True $\\\\beta_3$')\n",
    "plt.xlim(-7.5,7.5)\n",
    "plt.legend()"
   ]
  },
  {
   "cell_type": "code",
   "execution_count": null,
   "id": "a7b57e7d-c1b8-45b0-9128-b4a973d0e80f",
   "metadata": {},
   "outputs": [],
   "source": []
  }
 ],
 "metadata": {
  "kernelspec": {
   "display_name": "Python 3 (ipykernel)",
   "language": "python",
   "name": "python3"
  },
  "language_info": {
   "codemirror_mode": {
    "name": "ipython",
    "version": 3
   },
   "file_extension": ".py",
   "mimetype": "text/x-python",
   "name": "python",
   "nbconvert_exporter": "python",
   "pygments_lexer": "ipython3",
   "version": "3.12.4"
  }
 },
 "nbformat": 4,
 "nbformat_minor": 5
}
